{
 "cells": [
  {
   "cell_type": "markdown",
   "id": "7bdae655-cd92-4c6c-b456-c10af5ee954a",
   "metadata": {},
   "source": [
    "# Gaia Association\n",
    "** **\n",
    "## Example Notebook and User Guide\n",
    "** **\n",
    "** **\n",
    "![alternatvie text](https://raw.githubusercontent.com/samrosean/images/main/logo_with_border_transparent.png)"
   ]
  },
  {
   "cell_type": "markdown",
   "id": "0e16ad01-3202-40ea-ae24-8efa4ff4ad8d",
   "metadata": {},
   "source": [
    "## Step 1: Import Neccesary Libraries: \n",
    "\n",
    "gaiaAssociation is built to be dependant on a few python packages including pandas, pyranges, numpy, scipy, and seaborn, as well as built-in python packages like sys and os. These packages will need to be loaded into your environment if you wish to use gaiaAssociation. The cell below will import all neccessary packages, but it may present errors if these packages are not already installed in your copy of python. To install a package you can run a code cell with:\n",
    "\n",
    "*\"pip install \\[package-name]\"*\n",
    "\n",
    "or if working through an anaconda environment\n",
    "\n",
    "*\"conda install \\[package-name]\"*\n",
    "\n",
    "If this fails, each package will have its own troubleshooting documentation available to help install it into your environment."
   ]
  },
  {
   "cell_type": "code",
   "execution_count": 6,
   "id": "27a45549-c815-4c49-b0a5-0bdb00db5630",
   "metadata": {
    "tags": []
   },
   "outputs": [],
   "source": [
    "import pandas as pd\n",
    "import pyranges as pr\n",
    "import numpy as np\n",
    "import matplotlib.pyplot as plt\n",
    "from collections import defaultdict\n",
    "import operator\n",
    "import scipy\n",
    "from scipy.cluster.hierarchy import dendrogram, leaves_list\n",
    "import scipy.spatial.distance as ssd\n",
    "import os, glob\n",
    "import sys\n",
    "import seaborn as sns\n",
    "import statistics\n",
    "import math\n",
    "import argparse\n",
    "from scipy.optimize import root\n",
    "from scipy.stats import norm"
   ]
  },
  {
   "cell_type": "markdown",
   "id": "99a42bdd-06f4-4eb6-9e37-4f5cf1f32c4a",
   "metadata": {},
   "source": [
    "## Step 2: Import gaiaAssociation: \n",
    "\n",
    "Just as you have done in the previous step, gaiaAssociation will have to be installed into your local environment, this can be done easily by using pip install to retreive it from the PyPi repository. After it has been installed, it can be imported, at which point it is now usable within this notebook!"
   ]
  },
  {
   "cell_type": "code",
   "execution_count": null,
   "id": "ef58b4f8-5581-4658-a066-1892dde613e3",
   "metadata": {},
   "outputs": [],
   "source": [
    "pip install gaiaAssociation"
   ]
  },
  {
   "cell_type": "code",
   "execution_count": 2,
   "id": "f6a0bb7c-5585-4cf6-a931-b0f98b74a5ed",
   "metadata": {
    "tags": []
   },
   "outputs": [],
   "source": [
    "import gaiaAssociation.gaiaAssociation"
   ]
  },
  {
   "cell_type": "markdown",
   "id": "7a8def72-0b17-416e-bbce-a6c63463576a",
   "metadata": {},
   "source": [
    "## Step 3: Using gaiaAssociation: \n",
    "\n",
    "### Required variables:\n",
    "\n",
    "gaiaAssociation has 4 required variables which must be given. \n",
    "\n",
    "1. **OCR Folder**: the folder location of the OCR bed files stored in .txt format. The first three columns should be labeled “Chromosome”, “Start”, and “End” in that order. \n",
    "\n",
    "                ex: \"/User/OCR_Files\"\n",
    "\n",
    "\n",
    "2. **Loci Folder**: the folder location of the loci files stored in .tsv and/or .csv format.These files can be formatted differently depending on the type of loci being compared. If these loci are a single base pair long then only two columns are required: “CHR_POS” and “CHR_ID” which refer to its genome location and its chromosome name respectively. If these are variably sized loci you can include “Start” and “End” instead of “CHR_POS”. If you would like to give specific labels to each loci set, since by default we will name the loci set by their filename, you can include a column titled \"DISEASE/TRAIT\", which allows for multiple different loci sets to be analyzed within one file.\n",
    "\n",
    "                ex: \"/User/loci_Files\"\n",
    "\n",
    "3. **Chromosome Size**: The location of a chromosome size file stored in a .csv format. This should only have two columns “Chromosome” and “size in bp”. This file can be used to subset what chromosomes you are interested in looking at enrichment within. If you only include chr1 and chr2, then enrichment will only be done relative to these two chromosomes. It is important to give it a path including the file, not just the path. (e.g. user/chrom/chrsize.csv not just user/chrom)\n",
    "\n",
    "                ex: \"/User/Chrom/chrsize.csv\"\n",
    "\n",
    "\n",
    "4. **Output Folder**: The folder location you want the results to be output into. If this folder does not already exist gaia will attempt to make it. If it does not have the permissions to do so, it will exit and the user will have to run it with folder creating permissions, or they will have to make the folder themselves before running again.\n",
    "\n",
    "                ex: \"/User/Output\"\n",
    "                \n",
    "\n",
    "A default run using just these required arguments on the attached data is given below:"
   ]
  },
  {
   "cell_type": "code",
   "execution_count": 4,
   "id": "9f0eb4a9-6a33-47e7-b862-117c80d4e27b",
   "metadata": {
    "collapsed": true,
    "jupyter": {
     "outputs_hidden": true
    },
    "tags": []
   },
   "outputs": [
    {
     "ename": "SystemExit",
     "evalue": "Loci folder cannot be found",
     "output_type": "error",
     "traceback": [
      "An exception has occurred, use %tb to see the full traceback.\n",
      "\u001b[0;31mSystemExit\u001b[0m\u001b[0;31m:\u001b[0m Loci folder cannot be found\n"
     ]
    },
    {
     "name": "stderr",
     "output_type": "stream",
     "text": [
      "/Users/samuelrosean/anaconda3/lib/python3.11/site-packages/IPython/core/interactiveshell.py:3534: UserWarning: To exit: use 'exit', 'quit', or Ctrl-D.\n",
      "  warn(\"To exit: use 'exit', 'quit', or Ctrl-D.\", stacklevel=1)\n"
     ]
    }
   ],
   "source": [
    "gaiaAssociation.gaiaAssociation.gaiaAssociation(\"/User/OCR_Fules\", \"/User/loci_Files\", \"/User/Chrom/chrsize.csv\", \"/User/Output\")"
   ]
  },
  {
   "cell_type": "markdown",
   "id": "5b3688bf-8deb-4f16-8064-2aaf22fae535",
   "metadata": {},
   "source": [
    "#### Optional Arguments\n",
    "\n",
    "gaiaAssociation also has five optional arguments which can be given to generate more specific results.\n",
    "\n",
    "1. **Peak Uniqueness**: a cutoff value for OCR uniqueness (e.g. if given 12, then any atac peak found in more than 12 atac sets will be removed from all of them) - by default uniqueness is not considered).\n",
    "\n",
    "            ex: 12\n",
    "2. **Loci Cutoff**: a loci cutoff value, when given to gaiaAssociation, the run will only consider loci groups (phenotypes or cohorts) with more loci than this cutoff value - by default this cutoff value is 0.\n",
    "\n",
    "            ex: 200\n",
    "\n",
    "3. **Specific Loci**: a tsv file with the identifiers of specific loci groups you would like to use. This can be very helpful if using a large loci set with with many phenotypes, and you want to sort by more than just loci count. The tsv should have column names which also exist in the loci files, so that gaia can subset the loci based on these column values (e.g. if you have a column in your loci set titled \"runs\" and you would like to only use run 1, then a tsv file with one column \"runs\" and one row value \"1\" will accomplish this). If the tsv file includes multiple columns, say \"STUDY\", and \"DISEASE/TRAIT\", then the loci set will be subset specifically by both columns at once. So only those that match every value within a row will be considered as a group (e.g. if you subset by \"runs\" and by \"patient\", then if only those loci that match both of these values will be considered, so perhaps only Patient 1 from Run 1).\n",
    "\n",
    "            ex: \"/User/LociSelection/LociSelection.tsv\"\n",
    "\n",
    "4. **Masking Region**: a bed file in  a .txt format containing a set of regions which you would like to subset every OCR region by. For example, a set of regions around the TSSs of a list of particular genes. This will reduce the OCR regions to just those that overlap with this given set of regions. This can be used to detect cell-specific + site-specific enrichment differences.\n",
    "\n",
    "            ex: \"/User/Masking/MaskedRegion.txt\"\n",
    "\n",
    "5. **Window Size**: an integer given to represent the size of windows the user would like to divide the chromosome into. This method is based on the sinib tool (https://github.com/boxiangliu/sinib), which requires the chromosome be divided into a series of equal length windows to be able to model them as a series of binomials. The default value is 100,000 bp, but this value can be changed to increase specificity or decrease sepcificity. The function of the window size is to only consider the local environment when determing loci enrichment, so consideration should be made to what the user considers local in their particualr context.\n",
    "\n",
    "            ex: 1000000000"
   ]
  },
  {
   "cell_type": "markdown",
   "id": "a2ef4db7-26df-4b9d-ae64-3a4d5842e73a",
   "metadata": {
    "tags": []
   },
   "source": [
    "### Contact: \n",
    "\n",
    "For problems with gaiaAssociation, you can raise an issue through the github page, or contact me at:\n",
    "    \n",
    "    samuel.rosean@einsteinmed.edu"
   ]
  },
  {
   "cell_type": "markdown",
   "id": "cbfb027b-9367-4d1c-82f3-c29487f74c9c",
   "metadata": {
    "tags": []
   },
   "source": [
    "** **\n",
    "** **\n",
    "\n",
    "## Extra: Using Sinib through gaiaAssociation\n",
    "\n",
    "Sinib is an R package developed by Boxiang Liu as an implementaion of their method for summing independent non-identical binomial random variables found here:\n",
    "\n",
    "https://cran.r-project.org/web/packages/sinib/index.html\n",
    "\n",
    "As part of the gaiaAssociation package the entire sinib package has been translated into Python and can be accessed through gaia. Its usage and the specific order of vairables in the function call is exactly the same as is found in its R documentation,which can be referenced if neccesary:\n",
    "\n",
    "https://cran.r-project.org/web/packages/sinib/sinib.pdf\n",
    "\n",
    "Below we provide an example of how to call the psinib function from gaiaAssociation. To see all functions accesible within gaiaAssociation you may type \"gaiaAssociation.gaiaAssociation.\" into a code block and press Tab. This will provide a list of all functions within gaia."
   ]
  },
  {
   "cell_type": "code",
   "execution_count": 3,
   "id": "82dedfed-4e3e-4e25-adc5-da221d9a609b",
   "metadata": {
    "tags": []
   },
   "outputs": [
    {
     "data": {
      "text/plain": [
       "0.3634744120510757"
      ]
     },
     "execution_count": 3,
     "metadata": {},
     "output_type": "execute_result"
    }
   ],
   "source": [
    "gaiaAssociation.gaiaAssociation.psinib(1, [1,2], [.6,.3], lowerTail=False)"
   ]
  }
 ],
 "metadata": {
  "kernelspec": {
   "display_name": "Python 3 (ipykernel)",
   "language": "python",
   "name": "python3"
  },
  "language_info": {
   "codemirror_mode": {
    "name": "ipython",
    "version": 3
   },
   "file_extension": ".py",
   "mimetype": "text/x-python",
   "name": "python",
   "nbconvert_exporter": "python",
   "pygments_lexer": "ipython3",
   "version": "3.11.4"
  }
 },
 "nbformat": 4,
 "nbformat_minor": 5
}
